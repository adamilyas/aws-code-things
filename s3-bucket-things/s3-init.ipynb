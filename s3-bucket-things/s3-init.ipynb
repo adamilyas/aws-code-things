{
 "cells": [
  {
   "cell_type": "markdown",
   "metadata": {},
   "source": [
    "# boto3 resource for S3\n",
    "\n",
    "we will be using `s3_resource = boto3.resource(\"s3\")` as our resource object to\n",
    "- list buckets using `s3_resource.buckets.all()`\n",
    "- create bucket using `s3_resource.Bucket(\"myBucket\").create()` (Bucket is a class) OR\n",
    "- create bucket using `s3_resource.create_bucket(Bucket=\"myBucket\")`\n",
    "\n",
    "## File transfer\n",
    "Upload and download using:\n",
    "- upload `s3_resource.Bucket(\"myBucket\").upload_fileobj(file , \"key\")` where \"key\" is the file name in the bucket\n",
    "- upload `s3_bucket.upload_file('./path/to/file_to_upload.txt', \"key\")`\n",
    "- download `s3_bucket.download_fileobj(\"key\", file)`\n",
    "\n",
    "where `file` is `open('./path/to/local_file.txt' , 'wb')`"
   ]
  },
  {
   "cell_type": "code",
   "execution_count": 1,
   "metadata": {},
   "outputs": [],
   "source": [
    "import os, boto3\n",
    "# docstring: shift + tab"
   ]
  },
  {
   "cell_type": "code",
   "execution_count": 2,
   "metadata": {},
   "outputs": [],
   "source": [
    "bucket_name = \"myBucket\"\n",
    "REGION = 'ap-southeast-2'\n",
    "URL = \"http://localhost:4572\"\n",
    "\n",
    "s3_resource = boto3.resource(\n",
    "    's3', \n",
    "    region_name=REGION, \n",
    "    endpoint_url=URL )"
   ]
  },
  {
   "cell_type": "code",
   "execution_count": 3,
   "metadata": {},
   "outputs": [
    {
     "name": "stdout",
     "output_type": "stream",
     "text": [
      "Available buckets\n",
      "mybucket\n",
      "anotherbucket\n"
     ]
    }
   ],
   "source": [
    "print(\"Available buckets\")\n",
    "for bucket in s3_resource.buckets.all():\n",
    "    print(bucket.name)"
   ]
  },
  {
   "cell_type": "code",
   "execution_count": 4,
   "metadata": {},
   "outputs": [
    {
     "name": "stdout",
     "output_type": "stream",
     "text": [
      "Created Bucket: myBucket\n"
     ]
    }
   ],
   "source": [
    "# Create bucket if does not exist\n",
    "s3_bucket = s3_resource.Bucket(bucket_name)\n",
    "if s3_bucket not in s3_resource.buckets.all():\n",
    "    s3_bucket.create()\n",
    "    print(f'Created Bucket: {bucket_name}')"
   ]
  },
  {
   "cell_type": "code",
   "execution_count": 5,
   "metadata": {},
   "outputs": [
    {
     "data": {
      "text/plain": [
       "s3.Bucket(name='anotherBucket')"
      ]
     },
     "execution_count": 5,
     "metadata": {},
     "output_type": "execute_result"
    }
   ],
   "source": [
    "s3_resource.create_bucket(Bucket=\"anotherBucket\")"
   ]
  },
  {
   "cell_type": "code",
   "execution_count": 6,
   "metadata": {},
   "outputs": [
    {
     "name": "stdout",
     "output_type": "stream",
     "text": [
      "List all data in the list -- \n",
      "s3.ObjectSummary(bucket_name='myBucket', key='anotherKey')\n",
      "s3.ObjectSummary(bucket_name='myBucket', key='mykey')\n"
     ]
    }
   ],
   "source": [
    "print(\"List all data in the list -- \")\n",
    "for obj in s3_bucket.objects.all():\n",
    "    print(obj)"
   ]
  },
  {
   "cell_type": "code",
   "execution_count": 7,
   "metadata": {},
   "outputs": [],
   "source": [
    "# UPLOAD\n",
    "with open('./file.txt', 'rb') as data:\n",
    "    s3_bucket.upload_fileobj(data, 'mykey')"
   ]
  },
  {
   "cell_type": "code",
   "execution_count": 8,
   "metadata": {
    "scrolled": true
   },
   "outputs": [],
   "source": [
    "# another way of upload\n",
    "s3_bucket.upload_file('./file.txt', \"anotherKey\")"
   ]
  },
  {
   "cell_type": "code",
   "execution_count": 9,
   "metadata": {},
   "outputs": [],
   "source": [
    "# DOWNLOAD\n",
    "with open('./newFile.txt', 'wb+') as data:\n",
    "    s3_bucket.download_fileobj('mykey', data)"
   ]
  }
 ],
 "metadata": {
  "kernelspec": {
   "display_name": "Python 3",
   "language": "python",
   "name": "python3"
  },
  "language_info": {
   "codemirror_mode": {
    "name": "ipython",
    "version": 3
   },
   "file_extension": ".py",
   "mimetype": "text/x-python",
   "name": "python",
   "nbconvert_exporter": "python",
   "pygments_lexer": "ipython3",
   "version": "3.7.6"
  }
 },
 "nbformat": 4,
 "nbformat_minor": 4
}
